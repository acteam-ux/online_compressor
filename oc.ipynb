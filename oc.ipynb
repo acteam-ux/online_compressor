{
 "cells": [
  {
   "attachments": {},
   "cell_type": "markdown",
   "metadata": {},
   "source": [
    "یکی یکی دکمه های مثلث شکل را بزنید."
   ]
  },
  {
   "cell_type": "code",
   "execution_count": null,
   "metadata": {},
   "outputs": [],
   "source": [
    "# Load the Drive helper and mount\n",
    "from google.colab import drive\n",
    "drive.mount('/content/drive')"
   ]
  },
  {
   "cell_type": "code",
   "execution_count": null,
   "metadata": {},
   "outputs": [
    {
     "ename": "",
     "evalue": "",
     "output_type": "error",
     "traceback": [
      "\u001b[1;31mRunning cells with 'c:\\Program Files\\Python310\\python.exe' requires ipykernel package.\n",
      "\u001b[1;31mRun the following command to install 'ipykernel' into the Python environment. \n",
      "\u001b[1;31mCommand: '\"c:/Program Files/Python310/python.exe\" -m pip install ipykernel -U --user --force-reinstall'"
     ]
    }
   ],
   "source": [
    "# search for mp4 files\n",
    "import os\n",
    "mp4_list = []\n",
    "root_dir = r\"/content/drive\"\n",
    "for folder, subfolders, files in os.walk(root_dir):\n",
    "    for f in files:\n",
    "        if f.endswith(\".mp4\"):\n",
    "            mp4_list.append(os.path.join(folder, f))\n",
    "\n",
    "print(\"با توجه به فایل های موجود در درایو، عددی که کنار فیلم موردنظر است را وارد کنید.\")\n",
    "for i in range(len(mp4_list)):\n",
    "    print(\"[\"+str(i+1)+\"]\"+mp4_list[i])\n",
    "ans = input(\">>> \")\n",
    "ans_path = mp4_list[int(ans)-1]\n",
    "! zip -r /content/compressed.zip ans_path\n",
    "! zip -r /content/comp.zip /content/compressed.zip\n",
    "from google.colab import files \n",
    "files.download(\"/content/comp.zip\")"
   ]
  }
 ],
 "metadata": {
  "kernelspec": {
   "display_name": "Python 3",
   "language": "python",
   "name": "python3"
  },
  "language_info": {
   "name": "python",
   "version": "3.10.8 (tags/v3.10.8:aaaf517, Oct 11 2022, 16:50:30) [MSC v.1933 64 bit (AMD64)]"
  },
  "orig_nbformat": 4,
  "vscode": {
   "interpreter": {
    "hash": "26de051ba29f2982a8de78e945f0abaf191376122a1563185a90213a26c5da77"
   }
  }
 },
 "nbformat": 4,
 "nbformat_minor": 2
}
